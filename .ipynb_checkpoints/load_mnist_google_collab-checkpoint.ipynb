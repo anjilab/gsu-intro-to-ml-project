{
  "nbformat": 4,
  "nbformat_minor": 0,
  "metadata": {
    "colab": {
      "provenance": []
    },
    "kernelspec": {
      "name": "python3",
      "display_name": "Python 3"
    },
    "language_info": {
      "name": "python"
    }
  },
  "cells": [
    {
      "cell_type": "code",
      "source": [
        "import numpy as np\n",
        "from tensorflow.keras.datasets import mnist\n",
        "from sklearn.model_selection import train_test_split\n",
        "import matplotlib.pyplot as plt\n",
        "from tensorflow import keras\n",
        "from keras import layers\n"
      ],
      "metadata": {
        "id": "xGqzAgZwzE5S"
      },
      "execution_count": null,
      "outputs": []
    },
    {
      "cell_type": "code",
      "execution_count": null,
      "metadata": {
        "colab": {
          "base_uri": "https://localhost:8080/",
          "height": 488
        },
        "id": "ZEpiD4KQzAVW",
        "outputId": "03090f12-d4f3-441a-820d-ca0499276677"
      },
      "outputs": [
        {
          "output_type": "stream",
          "name": "stdout",
          "text": [
            "Downloading data from https://storage.googleapis.com/tensorflow/tf-keras-datasets/mnist.npz\n",
            "11490434/11490434 [==============================] - 1s 0us/step\n"
          ]
        },
        {
          "output_type": "display_data",
          "data": {
            "text/plain": [
              "<Figure size 640x480 with 1 Axes>"
            ],
            "image/png": "[encoded data removed]"
          },
          "metadata": {}
        }
      ],
      "source": [
        "# Load the MNIST dataset\n",
        "(x_train, y_train), (x_test, y_test) = mnist.load_data()\n",
        "\n",
        "# Combine training and test datasets to get the full dataset\n",
        "x_full = np.concatenate((x_train, x_test), axis=0)\n",
        "y_full = np.concatenate((y_train, y_test), axis=0)\n",
        "\n",
        "\n",
        "# Function to select a specified number of samples for each category\n",
        "def select_samples(x, y, num_samples):\n",
        "    selected_samples = []\n",
        "    selected_labels = []\n",
        "    for i in range(10):  # 10 categories in MNIST\n",
        "        indices = np.where(y == i)[0][:num_samples]\n",
        "        selected_samples.append(x[indices])\n",
        "        selected_labels.append(y[indices])\n",
        "    selected_samples = np.concatenate(selected_samples, axis=0)\n",
        "    selected_labels = np.concatenate(selected_labels, axis=0)\n",
        "    return selected_samples, selected_labels\n",
        "\n",
        "# Select 1,000 samples for each category\n",
        "x_subset, y_subset = select_samples(x_full, y_full, 1000)\n",
        "\n",
        "# Display one random image from x_train_subset\n",
        "index = np.random.randint(0, len(x_subset))\n",
        "image = x_subset[index]\n",
        "\n",
        "# Display the image\n",
        "plt.imshow(image, cmap='gray')\n",
        "plt.title(f\"Label: {y_subset[index]}\")\n",
        "plt.show()\n",
        "\n",
        "\n",
        "\n",
        "# Split the subset into training and testing sets\n",
        "x_train_subset, x_test_subset, y_train_subset, y_test_subset = train_test_split(\n",
        "    x_subset, y_subset, test_size=0.2, random_state=42\n",
        ")\n",
        "\n"
      ]
    },
    {
      "cell_type": "code",
      "source": [
        "np.random.seed(0)\n",
        "labeled_mask = np.zeros(10000, dtype=bool)\n",
        "for i in range(10):\n",
        "    indices = np.where(np.array(y_subset) == i)[0] # returns shuffled array of indices of each class, total 1000 data.\n",
        "    np.random.shuffle(indices)\n",
        "    labeled_mask[indices[:10]] = True\n",
        "\n",
        "\n",
        "print(np.where(labeled_mask)[0])\n",
        "\n",
        "labeled_dataset_to_be_trained_index = np.where(labeled_mask)[0]\n",
        "unlabeled_dataset_index = np.where(~labeled_mask)[0]\n",
        "\n",
        "\n",
        "\n",
        "labeled_dataset_to_be_trained_x = np.array([x_subset[index]  for index in labeled_dataset_to_be_trained_index])\n",
        "labeled_dataset_to_be_trained_y = np.array([y_subset[index]  for index in labeled_dataset_to_be_trained_index])\n",
        "\n",
        "unlabeled_dataset_x = np.array([x_subset[index]  for index in unlabeled_dataset_index])\n",
        "# unlabeled_dataset_y = np.array([y_subset[index]  for index in unlabeled_dataset_index])\n",
        "\n",
        "print(len(labeled_dataset_to_be_trained_y))\n",
        "\n",
        "unique_labels = np.unique([y for y in labeled_dataset_to_be_trained_y])\n",
        "\n",
        "\n",
        "\n",
        "\n",
        "# Display one random image from x_train_subset\n",
        "index = np.random.randint(0, len(labeled_dataset_to_be_trained_x))\n",
        "image = labeled_dataset_to_be_trained_x[index]\n",
        "\n",
        "\n",
        "# Display the image\n",
        "plt.imshow(image, cmap='gray')\n",
        "plt.title(f\"Label: {labeled_dataset_to_be_trained_y[index]}\")\n",
        "plt.show()\n",
        "\n",
        "\n",
        "\n",
        "# train_labels_one_hot_y = keras.utils.to_categorical(unique_labels, num_classes=10)\n",
        "\n",
        "# Split the subset into training and testing sets\n",
        "labeled_x_train_subset,labeled_x_test_subset, labeled_y_train_subset, labeled_y_test_subset = train_test_split(\n",
        "    labeled_dataset_to_be_trained_x, labeled_dataset_to_be_trained_y, test_size=0.2, random_state=42\n",
        ")\n",
        "\n",
        "train_labels_y = keras.utils.to_categorical(labeled_y_train_subset, num_classes=10)\n",
        "test_labels_y = keras.utils.to_categorical(labeled_y_test_subset, num_classes=10)\n",
        "\n",
        "print(train_labels_y.shape, 'akfdkafdkjh', labeled_y_train_subset.shape, labeled_dataset_to_be_trained_y.shape)\n",
        "\n",
        "\n",
        "\n"
      ],
      "metadata": {
        "colab": {
          "base_uri": "https://localhost:8080/",
          "height": 631
        },
        "id": "UsNNtoSwzzp0",
        "outputId": "347359a6-9f75-4afa-ab9d-3561d1bfed3a"
      },
      "execution_count": null,
      "outputs": [
        {
          "output_type": "stream",
          "name": "stdout",
          "text": [
            "[  27  231  298  306  553  672  706  859  971  993 1018 1201 1276 1386\n",
            " 1506 1532 1601 1671 1845 1939 2070 2071 2181 2222 2489 2500 2676 2680\n",
            " 2842 2947 3228 3277 3325 3329 3350 3503 3582 3587 3625 3834 4027 4081\n",
            " 4399 4636 4727 4756 4796 4797 4820 4947 5222 5495 5604 5647 5653 5853\n",
            " 5859 5894 5935 5985 6050 6128 6273 6401 6420 6516 6538 6623 6757 6775\n",
            " 7331 7376 7384 7461 7522 7532 7625 7647 7799 7848 8027 8221 8224 8242\n",
            " 8385 8428 8762 8777 8854 8996 9009 9181 9292 9712 9719 9748 9804 9838\n",
            " 9985 9990]\n",
            "100\n"
          ]
        },
        {
          "output_type": "display_data",
          "data": {
            "text/plain": [
              "<Figure size 640x480 with 1 Axes>"
            ],
            "image/png": "[encoded data removed]"
          },
          "metadata": {}
        },
        {
          "output_type": "stream",
          "name": "stdout",
          "text": [
            "(80, 10) akfdkafdkjh (80,) (100,)\n"
          ]
        }
      ]
    },
    {
      "cell_type": "code",
      "source": [
        "\n",
        "# Build the neural network model\n",
        "model = keras.Sequential([\n",
        "    layers.Flatten(input_shape=(28, 28,1)),  # Assuming input images are 28x28\n",
        "    layers.Dense(200, activation='relu'),   # Hidden layer with 200 neurons and ReLU activation\n",
        "    layers.Dense(10, activation='softmax')\n",
        "\n",
        "])\n",
        "\n",
        "# Compile the model\n",
        "model.compile(optimizer='adam', loss='categorical_crossentropy', metrics=['accuracy'])\n",
        "\n",
        "\n",
        "# Train the model\n",
        "model.fit(labeled_x_train_subset, train_labels_y , epochs=20, batch_size=64, validation_data=(labeled_x_test_subset, test_labels_y))\n",
        "\n",
        "# Evaluate the model on the test set\n",
        "test_loss, test_acc = model.evaluate(labeled_x_test_subset, test_labels_y)\n",
        "print('\\nTest accuracy:', test_acc)"
      ],
      "metadata": {
        "colab": {
          "base_uri": "https://localhost:8080/"
        },
        "id": "-zMQPODd5fYK",
        "outputId": "7cfe6db3-0360-454f-8c21-76f98a7c2b76"
      },
      "execution_count": null,
      "outputs": [
        {
          "output_type": "stream",
          "name": "stdout",
          "text": [
            "Epoch 1/20\n",
            "2/2 [==============================] - 1s 204ms/step - loss: 161.6266 - accuracy: 0.1625 - val_loss: 61.3274 - val_accuracy: 0.2500\n",
            "Epoch 2/20\n",
            "2/2 [==============================] - 0s 43ms/step - loss: 62.1734 - accuracy: 0.2750 - val_loss: 53.2261 - val_accuracy: 0.5000\n",
            "Epoch 3/20\n",
            "2/2 [==============================] - 0s 33ms/step - loss: 32.4211 - accuracy: 0.5500 - val_loss: 37.5665 - val_accuracy: 0.5500\n",
            "Epoch 4/20\n",
            "2/2 [==============================] - 0s 33ms/step - loss: 15.3520 - accuracy: 0.7500 - val_loss: 32.8723 - val_accuracy: 0.6000\n",
            "Epoch 5/20\n",
            "2/2 [==============================] - 0s 34ms/step - loss: 5.6473 - accuracy: 0.8875 - val_loss: 37.9497 - val_accuracy: 0.5000\n",
            "Epoch 6/20\n",
            "2/2 [==============================] - 0s 51ms/step - loss: 3.6090 - accuracy: 0.8750 - val_loss: 45.1700 - val_accuracy: 0.4500\n",
            "Epoch 7/20\n",
            "2/2 [==============================] - 0s 34ms/step - loss: 2.3678 - accuracy: 0.8875 - val_loss: 47.7606 - val_accuracy: 0.4000\n",
            "Epoch 8/20\n",
            "2/2 [==============================] - 0s 53ms/step - loss: 1.4438 - accuracy: 0.9500 - val_loss: 48.1070 - val_accuracy: 0.4000\n",
            "Epoch 9/20\n",
            "2/2 [==============================] - 0s 35ms/step - loss: 0.7936 - accuracy: 0.9875 - val_loss: 48.1868 - val_accuracy: 0.4500\n",
            "Epoch 10/20\n",
            "2/2 [==============================] - 0s 54ms/step - loss: 0.4094 - accuracy: 0.9750 - val_loss: 46.3849 - val_accuracy: 0.4500\n",
            "Epoch 11/20\n",
            "2/2 [==============================] - 0s 68ms/step - loss: 1.2631e-04 - accuracy: 1.0000 - val_loss: 45.4606 - val_accuracy: 0.5000\n",
            "Epoch 12/20\n",
            "2/2 [==============================] - 0s 84ms/step - loss: 5.8454e-04 - accuracy: 1.0000 - val_loss: 44.9554 - val_accuracy: 0.5000\n",
            "Epoch 13/20\n",
            "2/2 [==============================] - 0s 35ms/step - loss: 4.3555e-04 - accuracy: 1.0000 - val_loss: 44.5449 - val_accuracy: 0.5000\n",
            "Epoch 14/20\n",
            "2/2 [==============================] - 0s 34ms/step - loss: 1.4754e-04 - accuracy: 1.0000 - val_loss: 44.3091 - val_accuracy: 0.5000\n",
            "Epoch 15/20\n",
            "2/2 [==============================] - 0s 37ms/step - loss: 3.1798e-05 - accuracy: 1.0000 - val_loss: 44.5071 - val_accuracy: 0.5500\n",
            "Epoch 16/20\n",
            "2/2 [==============================] - 0s 40ms/step - loss: 2.1375e-05 - accuracy: 1.0000 - val_loss: 44.7106 - val_accuracy: 0.5500\n",
            "Epoch 17/20\n",
            "2/2 [==============================] - 0s 37ms/step - loss: 2.7695e-05 - accuracy: 1.0000 - val_loss: 44.8749 - val_accuracy: 0.5500\n",
            "Epoch 18/20\n",
            "2/2 [==============================] - 0s 35ms/step - loss: 3.7726e-04 - accuracy: 1.0000 - val_loss: 44.9993 - val_accuracy: 0.5500\n",
            "Epoch 19/20\n",
            "2/2 [==============================] - 0s 35ms/step - loss: 2.3781e-04 - accuracy: 1.0000 - val_loss: 45.0925 - val_accuracy: 0.5500\n",
            "Epoch 20/20\n",
            "2/2 [==============================] - 0s 36ms/step - loss: 7.1614e-05 - accuracy: 1.0000 - val_loss: 45.1771 - val_accuracy: 0.5500\n",
            "1/1 [==============================] - 0s 25ms/step - loss: 45.1771 - accuracy: 0.5500\n",
            "\n",
            "Test accuracy: 0.550000011920929\n"
          ]
        }
      ]
    },
    {
      "cell_type": "code",
      "source": [
        "# Entropy minimization\n",
        "# Log likelihood of labelled data\n",
        "\n",
        "# labeled_x_train_subset, train_labels_y\n",
        "\n",
        "print(train_labels_y[0])\n",
        "image = labeled_x_train_subset[0]\n",
        "# Display the image\n",
        "plt.imshow(image, cmap='gray')\n",
        "plt.title(f\"Label: {train_labels_y[0]}\")\n",
        "plt.show()\n",
        "\n",
        "single_input = np.reshape(labeled_x_test_subset[0], (1, 28, 28))\n",
        "prediction = model.predict(single_input)\n",
        "print(np.argmax(prediction))\n",
        "\n",
        "# dot product of labeled one hot vector & prediction\n",
        "predictions = model.predict(labeled_x_train_subset)\n",
        "max_predictions_value = np.argmax(predictions)\n",
        "print(max_predictions_value,'fjahjfhdalfj')\n",
        "print(predictions.shape, max_predictions_value)\n",
        "output_dot_product = np.dot(train_labels_y.T, predictions)\n",
        "print(output_dot_product)\n"
      ],
      "metadata": {
        "colab": {
          "base_uri": "https://localhost:8080/",
          "height": 916
        },
        "id": "slig_rjjzWx-",
        "outputId": "eeaa12a8-aa1e-4633-cb46-a6b4365e9ecd"
      },
      "execution_count": null,
      "outputs": [
        {
          "output_type": "stream",
          "name": "stdout",
          "text": [
            "[0. 0. 0. 0. 0. 1. 0. 0. 0. 0.]\n"
          ]
        },
        {
          "output_type": "display_data",
          "data": {
            "text/plain": [
              "<Figure size 640x480 with 1 Axes>"
            ],
            "image/png": "[encoded data removed]"
          },
          "metadata": {}
        },
        {
          "output_type": "stream",
          "name": "stdout",
          "text": [
            "1/1 [==============================] - 0s 71ms/step\n",
            "7\n",
            "3/3 [==============================] - 0s 5ms/step\n",
            "5 fjahjfhdalfj\n",
            "(80, 10) 5\n",
            "[[7.9999990e+00 5.7582928e-37 1.4942199e-10 2.3874854e-27 0.0000000e+00\n",
            "  0.0000000e+00 0.0000000e+00 9.8998216e-26 4.1843429e-32 0.0000000e+00]\n",
            " [0.0000000e+00 6.9999995e+00 0.0000000e+00 0.0000000e+00 0.0000000e+00\n",
            "  0.0000000e+00 0.0000000e+00 0.0000000e+00 0.0000000e+00 0.0000000e+00]\n",
            " [0.0000000e+00 3.6147205e-05 8.9999628e+00 0.0000000e+00 0.0000000e+00\n",
            "  0.0000000e+00 0.0000000e+00 0.0000000e+00 0.0000000e+00 0.0000000e+00]\n",
            " [0.0000000e+00 0.0000000e+00 0.0000000e+00 5.9999971e+00 2.7763719e-32\n",
            "  2.6080552e-06 1.7544716e-38 1.2424220e-32 7.3789564e-34 0.0000000e+00]\n",
            " [0.0000000e+00 0.0000000e+00 4.3442769e-10 0.0000000e+00 7.9999990e+00\n",
            "  0.0000000e+00 0.0000000e+00 0.0000000e+00 0.0000000e+00 0.0000000e+00]\n",
            " [1.0547341e-20 1.8259950e-03 5.1833494e-13 2.5777043e-25 0.0000000e+00\n",
            "  8.9981737e+00 0.0000000e+00 8.2888770e-28 9.5975409e-18 0.0000000e+00]\n",
            " [0.0000000e+00 0.0000000e+00 0.0000000e+00 0.0000000e+00 0.0000000e+00\n",
            "  0.0000000e+00 9.9999990e+00 0.0000000e+00 0.0000000e+00 0.0000000e+00]\n",
            " [0.0000000e+00 0.0000000e+00 0.0000000e+00 0.0000000e+00 0.0000000e+00\n",
            "  0.0000000e+00 0.0000000e+00 5.9999995e+00 0.0000000e+00 4.0498744e-29]\n",
            " [0.0000000e+00 1.1652042e-11 2.0622255e-14 0.0000000e+00 3.4842993e-32\n",
            "  0.0000000e+00 0.0000000e+00 0.0000000e+00 7.9999995e+00 0.0000000e+00]\n",
            " [0.0000000e+00 3.9681968e-06 4.9799359e-19 0.0000000e+00 1.8196679e-18\n",
            "  0.0000000e+00 0.0000000e+00 8.1750509e-12 0.0000000e+00 8.9999952e+00]]\n"
          ]
        }
      ]
    },
    {
      "cell_type": "code",
      "source": [
        "# pseudo labels:\n",
        "pseudo_label_predictions = model.predict(unlabeled_dataset_x)\n",
        "max_predictions_value = np.argmax(pseudo_label_predictions)\n",
        "print(max_predictions_value,'fjahjfhdalfj')\n",
        "print(pseudo_label_predictions.shape, max_predictions_value)\n",
        "\n",
        "\n",
        "\n",
        "\n",
        "train_labels_y_value = keras.utils.to_categorical(labeled_dataset_to_be_trained_y, num_classes=10)\n",
        "#  combine labeled & unlabeled dataset:\n",
        "new_train_x = np.vstack((labeled_dataset_to_be_trained_x, unlabeled_dataset_x))\n",
        "new_train_y = np.vstack((train_labels_y_value, pseudo_label_predictions))\n",
        "\n",
        "\n",
        "print(labeled_dataset_to_be_trained_x.shape, unlabeled_dataset_x.shape, new_train_x.shape)\n",
        "print(train_labels_y.shape, pseudo_label_predictions.shape,new_train_y.shape)\n",
        "# train the model with this dataset\n",
        "labeled_x_train_subset_pseudo,labeled_x_test_subset_pseudo, labeled_y_train_subset_pseudo, labeled_y_test_subset_pseudo = train_test_split(\n",
        "    new_train_x, new_train_y, test_size=0.2, random_state=42\n",
        ")\n",
        "\n",
        "train_labels_y_pseudo = keras.utils.to_categorical(labeled_y_train_subset_pseudo, num_classes=10)\n",
        "test_labels_y_pseudo = keras.utils.to_categorical(labeled_y_test_subset_pseudo, num_classes=10)\n",
        "\n",
        "\n",
        "# Train the model\n",
        "model.fit(labeled_x_train_subset_pseudo, train_labels_y_pseudo , epochs=20, batch_size=64, validation_data=(labeled_x_train_subset_pseudo, test_labels_y_pseudo))\n",
        "\n",
        "# Evaluate the model on the test set\n",
        "test_loss, test_acc = model.evaluate(labeled_x_test_subset_pseudo, labeled_y_test_subset_pseudo)\n",
        "print('\\nTest accuracy:', test_acc)\n",
        "\n"
      ],
      "metadata": {
        "colab": {
          "base_uri": "https://localhost:8080/",
          "height": 1000
        },
        "id": "1f06GRcr_LYA",
        "outputId": "988a08a6-55bd-439f-e17c-8220caddc156"
      },
      "execution_count": null,
      "outputs": [
        {
          "output_type": "stream",
          "name": "stdout",
          "text": [
            "310/310 [==============================] - 2s 6ms/step\n",
            "98964 fjahjfhdalfj\n",
            "(9900, 10) 98964\n",
            "(100, 28, 28) (9900, 28, 28) (10000, 28, 28)\n",
            "(80, 10) (9900, 10) (10000, 10)\n",
            "Epoch 1/20\n"
          ]
        },
        {
          "output_type": "error",
          "ename": "InvalidArgumentError",
          "evalue": "ignored",
          "traceback": [
            "\u001b[0;31m---------------------------------------------------------------------------\u001b[0m",
            "\u001b[0;31mInvalidArgumentError\u001b[0m                      Traceback (most recent call last)",
            "\u001b[0;32m<ipython-input-54-65e18799fc5f>\u001b[0m in \u001b[0;36m<cell line: 28>\u001b[0;34m()\u001b[0m\n\u001b[1;32m     26\u001b[0m \u001b[0;34m\u001b[0m\u001b[0m\n\u001b[1;32m     27\u001b[0m \u001b[0;31m# Train the model\u001b[0m\u001b[0;34m\u001b[0m\u001b[0;34m\u001b[0m\u001b[0m\n\u001b[0;32m---> 28\u001b[0;31m \u001b[0mmodel\u001b[0m\u001b[0;34m.\u001b[0m\u001b[0mfit\u001b[0m\u001b[0;34m(\u001b[0m\u001b[0mlabeled_x_train_subset_pseudo\u001b[0m\u001b[0;34m,\u001b[0m \u001b[0mtrain_labels_y_pseudo\u001b[0m \u001b[0;34m,\u001b[0m \u001b[0mepochs\u001b[0m\u001b[0;34m=\u001b[0m\u001b[0;36m20\u001b[0m\u001b[0;34m,\u001b[0m \u001b[0mbatch_size\u001b[0m\u001b[0;34m=\u001b[0m\u001b[0;36m64\u001b[0m\u001b[0;34m,\u001b[0m \u001b[0mvalidation_data\u001b[0m\u001b[0;34m=\u001b[0m\u001b[0;34m(\u001b[0m\u001b[0mlabeled_x_train_subset_pseudo\u001b[0m\u001b[0;34m,\u001b[0m \u001b[0mtest_labels_y_pseudo\u001b[0m\u001b[0;34m)\u001b[0m\u001b[0;34m)\u001b[0m\u001b[0;34m\u001b[0m\u001b[0;34m\u001b[0m\u001b[0m\n\u001b[0m\u001b[1;32m     29\u001b[0m \u001b[0;34m\u001b[0m\u001b[0m\n\u001b[1;32m     30\u001b[0m \u001b[0;31m# Evaluate the model on the test set\u001b[0m\u001b[0;34m\u001b[0m\u001b[0;34m\u001b[0m\u001b[0m\n",
            "\u001b[0;32m/usr/local/lib/python3.10/dist-packages/keras/src/utils/traceback_utils.py\u001b[0m in \u001b[0;36merror_handler\u001b[0;34m(*args, **kwargs)\u001b[0m\n\u001b[1;32m     68\u001b[0m             \u001b[0;31m# To get the full stack trace, call:\u001b[0m\u001b[0;34m\u001b[0m\u001b[0;34m\u001b[0m\u001b[0m\n\u001b[1;32m     69\u001b[0m             \u001b[0;31m# `tf.debugging.disable_traceback_filtering()`\u001b[0m\u001b[0;34m\u001b[0m\u001b[0;34m\u001b[0m\u001b[0m\n\u001b[0;32m---> 70\u001b[0;31m             \u001b[0;32mraise\u001b[0m \u001b[0me\u001b[0m\u001b[0;34m.\u001b[0m\u001b[0mwith_traceback\u001b[0m\u001b[0;34m(\u001b[0m\u001b[0mfiltered_tb\u001b[0m\u001b[0;34m)\u001b[0m \u001b[0;32mfrom\u001b[0m \u001b[0;32mNone\u001b[0m\u001b[0;34m\u001b[0m\u001b[0;34m\u001b[0m\u001b[0m\n\u001b[0m\u001b[1;32m     71\u001b[0m         \u001b[0;32mfinally\u001b[0m\u001b[0;34m:\u001b[0m\u001b[0;34m\u001b[0m\u001b[0;34m\u001b[0m\u001b[0m\n\u001b[1;32m     72\u001b[0m             \u001b[0;32mdel\u001b[0m \u001b[0mfiltered_tb\u001b[0m\u001b[0;34m\u001b[0m\u001b[0;34m\u001b[0m\u001b[0m\n",
            "\u001b[0;32m/usr/local/lib/python3.10/dist-packages/tensorflow/python/eager/execute.py\u001b[0m in \u001b[0;36mquick_execute\u001b[0;34m(op_name, num_outputs, inputs, attrs, ctx, name)\u001b[0m\n\u001b[1;32m     58\u001b[0m         \u001b[0;32mfor\u001b[0m \u001b[0mt\u001b[0m \u001b[0;32min\u001b[0m \u001b[0minputs\u001b[0m\u001b[0;34m\u001b[0m\u001b[0;34m\u001b[0m\u001b[0m\n\u001b[1;32m     59\u001b[0m     ]\n\u001b[0;32m---> 60\u001b[0;31m     tensors = pywrap_tfe.TFE_Py_Execute(ctx._handle, device_name, op_name,\n\u001b[0m\u001b[1;32m     61\u001b[0m                                         inputs, attrs, num_outputs)\n\u001b[1;32m     62\u001b[0m   \u001b[0;32mexcept\u001b[0m \u001b[0mcore\u001b[0m\u001b[0;34m.\u001b[0m\u001b[0m_NotOkStatusException\u001b[0m \u001b[0;32mas\u001b[0m \u001b[0me\u001b[0m\u001b[0;34m:\u001b[0m\u001b[0;34m\u001b[0m\u001b[0;34m\u001b[0m\u001b[0m\n",
            "\u001b[0;31mInvalidArgumentError\u001b[0m: Graph execution error:\n\nDetected at node categorical_crossentropy/cond/remove_squeezable_dimensions/cond/Squeeze defined at (most recent call last):\n  File \"/usr/lib/python3.10/runpy.py\", line 196, in _run_module_as_main\n\n  File \"/usr/lib/python3.10/runpy.py\", line 86, in _run_code\n\n  File \"/usr/local/lib/python3.10/dist-packages/colab_kernel_launcher.py\", line 37, in <module>\n\n  File \"/usr/local/lib/python3.10/dist-packages/traitlets/config/application.py\", line 992, in launch_instance\n\n  File \"/usr/local/lib/python3.10/dist-packages/ipykernel/kernelapp.py\", line 619, in start\n\n  File \"/usr/local/lib/python3.10/dist-packages/tornado/platform/asyncio.py\", line 195, in start\n\n  File \"/usr/lib/python3.10/asyncio/base_events.py\", line 603, in run_forever\n\n  File \"/usr/lib/python3.10/asyncio/base_events.py\", line 1909, in _run_once\n\n  File \"/usr/lib/python3.10/asyncio/events.py\", line 80, in _run\n\n  File \"/usr/local/lib/python3.10/dist-packages/tornado/ioloop.py\", line 685, in <lambda>\n\n  File \"/usr/local/lib/python3.10/dist-packages/tornado/ioloop.py\", line 738, in _run_callback\n\n  File \"/usr/local/lib/python3.10/dist-packages/tornado/gen.py\", line 825, in inner\n\n  File \"/usr/local/lib/python3.10/dist-packages/tornado/gen.py\", line 786, in run\n\n  File \"/usr/local/lib/python3.10/dist-packages/ipykernel/kernelbase.py\", line 361, in process_one\n\n  File \"/usr/local/lib/python3.10/dist-packages/tornado/gen.py\", line 234, in wrapper\n\n  File \"/usr/local/lib/python3.10/dist-packages/ipykernel/kernelbase.py\", line 261, in dispatch_shell\n\n  File \"/usr/local/lib/python3.10/dist-packages/tornado/gen.py\", line 234, in wrapper\n\n  File \"/usr/local/lib/python3.10/dist-packages/ipykernel/kernelbase.py\", line 539, in execute_request\n\n  File \"/usr/local/lib/python3.10/dist-packages/tornado/gen.py\", line 234, in wrapper\n\n  File \"/usr/local/lib/python3.10/dist-packages/ipykernel/ipkernel.py\", line 302, in do_execute\n\n  File \"/usr/local/lib/python3.10/dist-packages/ipykernel/zmqshell.py\", line 539, in run_cell\n\n  File \"/usr/local/lib/python3.10/dist-packages/IPython/core/interactiveshell.py\", line 2975, in run_cell\n\n  File \"/usr/local/lib/python3.10/dist-packages/IPython/core/interactiveshell.py\", line 3030, in _run_cell\n\n  File \"/usr/local/lib/python3.10/dist-packages/IPython/core/async_helpers.py\", line 78, in _pseudo_sync_runner\n\n  File \"/usr/local/lib/python3.10/dist-packages/IPython/core/interactiveshell.py\", line 3257, in run_cell_async\n\n  File \"/usr/local/lib/python3.10/dist-packages/IPython/core/interactiveshell.py\", line 3473, in run_ast_nodes\n\n  File \"/usr/local/lib/python3.10/dist-packages/IPython/core/interactiveshell.py\", line 3553, in run_code\n\n  File \"<ipython-input-53-d37ff6c07e23>\", line 29, in <cell line: 29>\n\n  File \"/usr/local/lib/python3.10/dist-packages/keras/src/utils/traceback_utils.py\", line 65, in error_handler\n\n  File \"/usr/local/lib/python3.10/dist-packages/keras/src/engine/training.py\", line 1783, in fit\n\n  File \"/usr/local/lib/python3.10/dist-packages/keras/src/engine/training.py\", line 1377, in train_function\n\n  File \"/usr/local/lib/python3.10/dist-packages/keras/src/engine/training.py\", line 1360, in step_function\n\n  File \"/usr/local/lib/python3.10/dist-packages/keras/src/engine/training.py\", line 1349, in run_step\n\n  File \"/usr/local/lib/python3.10/dist-packages/keras/src/engine/training.py\", line 1127, in train_step\n\n  File \"/usr/local/lib/python3.10/dist-packages/keras/src/engine/training.py\", line 1185, in compute_loss\n\n  File \"/usr/local/lib/python3.10/dist-packages/keras/src/engine/compile_utils.py\", line 277, in __call__\n\n  File \"/usr/local/lib/python3.10/dist-packages/keras/src/losses.py\", line 143, in __call__\n\n  File \"/usr/local/lib/python3.10/dist-packages/keras/src/losses.py\", line 263, in call\n\n  File \"/usr/local/lib/python3.10/dist-packages/keras/src/utils/losses_utils.py\", line 209, in squeeze_or_expand_dimensions\n\n  File \"/usr/local/lib/python3.10/dist-packages/keras/src/utils/losses_utils.py\", line 204, in <lambda>\n\n  File \"/usr/local/lib/python3.10/dist-packages/keras/src/utils/losses_utils.py\", line 155, in remove_squeezable_dimensions\n\n  File \"/usr/local/lib/python3.10/dist-packages/keras/src/utils/losses_utils.py\", line 157, in <lambda>\n\nDetected at node cond/remove_squeezable_dimensions/cond/Squeeze defined at (most recent call last):\n<stack traces unavailable>\nCan not squeeze dim[2], expected a dimension of 1, got 10\n\t [[{{node categorical_crossentropy/cond/remove_squeezable_dimensions/cond/Squeeze}}, {{node cond/remove_squeezable_dimensions/cond/Squeeze}}]] [Op:__inference_train_function_47484]"
          ]
        }
      ]
    }
  ]
}