{
 "cells": [
  {
   "cell_type": "code",
   "execution_count": 95,
   "id": "fa0e24d7-27ec-40b0-8b1e-1bff80e5848d",
   "metadata": {},
   "outputs": [],
   "source": [
    "from sklearn.datasets import load_digits\n",
    "import pandas as pd\n",
    "import matplotlib.pyplot as plt\n",
    "%matplotlib inline\n",
    "from sklearn.model_selection import train_test_split\n",
    "\n"
   ]
  },
  {
   "cell_type": "code",
   "execution_count": 96,
   "id": "b1a85e49-e21a-4b4c-bd8c-78e71f01b666",
   "metadata": {},
   "outputs": [],
   "source": [
    "#import libraries and functions to load the data\n",
    "from digits import get_mnist\n",
    "from matplotlib import pyplot as plt\n",
    "import numpy as np\n",
    "\n",
    "\n",
    "import torch\n",
    "from torch import nn\n",
    "from torch.utils.data import DataLoader, SubsetRandomSampler, Subset\n",
    "from torchvision import datasets\n",
    "from torchvision.transforms import ToTensor"
   ]
  },
  {
   "cell_type": "code",
   "execution_count": 72,
   "id": "a91fd081-aa60-4252-bdd8-f6cdd7275e30",
   "metadata": {},
   "outputs": [],
   "source": [
    "# Download training data from open datasets.\n",
    "training_data = datasets.MNIST(\n",
    "    root=\"data\",\n",
    "    train=True,\n",
    "    download=True,\n",
    "    transform=ToTensor(),\n",
    ")\n",
    "\n",
    "# Download test data from open datasets.\n",
    "test_data = datasets.MNIST(\n",
    "    root=\"data\",\n",
    "    train=False,\n",
    "    download=True,\n",
    "    transform=ToTensor(),\n",
    ")\n",
    "    "
   ]
  },
  {
   "cell_type": "code",
   "execution_count": 85,
   "id": "9b707d17-e24d-41e0-a1c0-55a80fd7f0e8",
   "metadata": {},
   "outputs": [
    {
     "data": {
      "text/plain": [
       "13333986796150631047"
      ]
     },
     "execution_count": 85,
     "metadata": {},
     "output_type": "execute_result"
    }
   ],
   "source": [
    "np.random.seed(0)\n",
    "torch.random.seed()"
   ]
  },
  {
   "cell_type": "code",
   "execution_count": 106,
   "id": "47cfa6c5-c968-4a2f-8359-c161215f46c9",
   "metadata": {},
   "outputs": [
    {
     "name": "stdout",
     "output_type": "stream",
     "text": [
      "(10000, 1)\n",
      "Labels are [0 1 2 3 4 5 6 7 8 9] 10000\n",
      "For i: 0 there are 1000\n",
      "For i: 1 there are 1000\n",
      "For i: 2 there are 1000\n",
      "For i: 3 there are 1000\n",
      "For i: 4 there are 1000\n",
      "For i: 5 there are 1000\n",
      "For i: 6 there are 1000\n",
      "For i: 7 there are 1000\n",
      "For i: 8 there are 1000\n",
      "For i: 9 there are 1000\n",
      "Unique Labels are [0 1 2 3 4 5 6 7 8 9] total data taken for labeled mask 10000\n"
     ]
    },
    {
     "data": {
      "image/png": "[encoded data removed]",
      "text/plain": [
       "<Figure size 640x480 with 1 Axes>"
      ]
     },
     "metadata": {},
     "output_type": "display_data"
    },
    {
     "name": "stdout",
     "output_type": "stream",
     "text": [
      "[ 2 22 25 36 45 48 93 94 95 96]\n",
      "[  5  31  43  44 105 116 117 134 138 156]\n",
      "[  8  16  20  58  73  84 106 109 110 120]\n",
      "[ 4 21 24 28 40 46 49 50 53 69]\n",
      "[ 0 12 15 17 23 27 32 33 34 47]\n",
      "[  3  13  35  38  42  56  70  71  72 103]\n",
      "[18 30 51 52 59 62 63 67 78 91]\n",
      "[ 1  9 10 11 14 26 41 65 68 99]\n",
      "[ 6  7 19 37 39 57 74 75 76 79]\n",
      "[ 29  55  64  80  87  92 101 107 122 131]\n",
      "100 This is main\n",
      "0\n"
     ]
    },
    {
     "ename": "TypeError",
     "evalue": "'DataLoader' object is not subscriptable",
     "output_type": "error",
     "traceback": [
      "\u001b[0;31m---------------------------------------------------------------------------\u001b[0m",
      "\u001b[0;31mTypeError\u001b[0m                                 Traceback (most recent call last)",
      "Cell \u001b[0;32mIn[106], line 65\u001b[0m\n\u001b[1;32m     63\u001b[0m \u001b[38;5;28;01mfor\u001b[39;00m i \u001b[38;5;129;01min\u001b[39;00m \u001b[38;5;28mrange\u001b[39m(\u001b[38;5;241m5\u001b[39m):\n\u001b[1;32m     64\u001b[0m     \u001b[38;5;28mprint\u001b[39m(i)\n\u001b[0;32m---> 65\u001b[0m     \u001b[38;5;28;01mfor\u001b[39;00m test \u001b[38;5;129;01min\u001b[39;00m labeled_dataset:\n\u001b[1;32m     66\u001b[0m         \u001b[38;5;28mprint\u001b[39m(test)\n\u001b[1;32m     71\u001b[0m \u001b[38;5;66;03m# DataLoader for labeled data\u001b[39;00m\n",
      "File \u001b[0;32m~/Library/Python/3.9/lib/python/site-packages/torch/utils/data/dataset.py:356\u001b[0m, in \u001b[0;36mSubset.__getitem__\u001b[0;34m(self, idx)\u001b[0m\n\u001b[1;32m    354\u001b[0m \u001b[38;5;28;01mif\u001b[39;00m \u001b[38;5;28misinstance\u001b[39m(idx, \u001b[38;5;28mlist\u001b[39m):\n\u001b[1;32m    355\u001b[0m     \u001b[38;5;28;01mreturn\u001b[39;00m \u001b[38;5;28mself\u001b[39m\u001b[38;5;241m.\u001b[39mdataset[[\u001b[38;5;28mself\u001b[39m\u001b[38;5;241m.\u001b[39mindices[i] \u001b[38;5;28;01mfor\u001b[39;00m i \u001b[38;5;129;01min\u001b[39;00m idx]]\n\u001b[0;32m--> 356\u001b[0m \u001b[38;5;28;01mreturn\u001b[39;00m \u001b[38;5;28;43mself\u001b[39;49m\u001b[38;5;241;43m.\u001b[39;49m\u001b[43mdataset\u001b[49m\u001b[43m[\u001b[49m\u001b[38;5;28;43mself\u001b[39;49m\u001b[38;5;241;43m.\u001b[39;49m\u001b[43mindices\u001b[49m\u001b[43m[\u001b[49m\u001b[43midx\u001b[49m\u001b[43m]\u001b[49m\u001b[43m]\u001b[49m\n",
      "\u001b[0;31mTypeError\u001b[0m: 'DataLoader' object is not subscriptable"
     ]
    }
   ],
   "source": [
    "batch_size = 64\n",
    "desired_num_samples = 10000\n",
    "examples_per_class = 1000\n",
    "\n",
    "selected_indices = []\n",
    "\n",
    "# Getting 1000 samples from each class\n",
    "# Iterate through each class to select the desired number of examples\n",
    "for class_idx in range(10):  # MNIST has 10 classes (digits 0 to 9)\n",
    "    class_indices = [idx for idx, label in enumerate(training_data.targets) if label == class_idx]\n",
    "    selected_indices.extend(class_indices[:examples_per_class])\n",
    "\n",
    "# Create a SubsetRandomSampler with the selected indices\n",
    "subset_sampler = SubsetRandomSampler(selected_indices)\n",
    "# Create data loaders.\n",
    "# train_dataloader = DataLoader(training_data, batch_size=batch_size, sampler=subset_sampler)\n",
    "# test_dataloader = DataLoader(test_data, batch_size=batch_size)\n",
    "\n",
    "\n",
    "train_dataloader = DataLoader(training_data, sampler=subset_sampler)\n",
    "test_dataloader = DataLoader(test_data)\n",
    "\n",
    "X_input_image_arr = [X for batch, (X,y) in enumerate(train_dataloader)]\n",
    "Y_label_arr = [y for batch, (X,y) in enumerate(train_dataloader)]\n",
    "print(np.array(Y_label_arr).shape)\n",
    "\n",
    "\n",
    "total_number_of_samples = len(train_dataloader)\n",
    "labeled_sample_for_every_class = 10\n",
    "\n",
    "unique_labels = np.unique([y for batch, (X,y) in enumerate(train_dataloader)])\n",
    "print(\"Labels are\", unique_labels, total_number_of_samples)\n",
    "\n",
    "## CHECKING IF EVERY CLASS CONTAINS 1000 images\n",
    "for i in unique_labels:\n",
    "    print('For i:', i, 'there are',np.count_nonzero(np.array(Y_label_arr) == 8))\n",
    "\n",
    "labeled_mask = np.zeros(total_number_of_samples, dtype=bool)\n",
    "\n",
    "\n",
    "print(\"Unique Labels are\", np.unique([y for batch, (X,y) in enumerate(train_dataloader)]),'total data taken for labeled mask', len(labeled_mask))\n",
    "\n",
    "\n",
    "img = X_input_image_arr[0].numpy().squeeze()\n",
    "plt.imshow(img, cmap='gray')\n",
    "plt.show()\n",
    "\n",
    "for i in range(len(unique_labels)):\n",
    "    indices = np.where(np.array(Y_label_arr) == i)[0] # returns shuffled array of indices of each class, total 1000 data.\n",
    "    print(indices[:labeled_sample_for_every_class]) # first 10 data's indices\n",
    "    np.random.shuffle(indices)\n",
    "    labeled_mask[indices[:labeled_sample_for_every_class]] = True\n",
    "\n",
    "\n",
    "\n",
    "\n",
    "labeled_dataset = Subset(train_dataloader, np.where(labeled_mask)[0]) # contains subset of 10 labeled data for each class so total = 10*10 =100\n",
    "unlabeled_dataset = Subset(train_dataloader, np.where(~labeled_mask)[0])\n",
    "\n",
    "print(len(labeled_dataset), 'This is main') \n",
    "\n",
    "\n",
    "\n",
    "# DataLoader for labeled data\n",
    "labeled_dataloader = DataLoader(labeled_dataset, batch_size=10, shuffle=True)\n",
    "\n",
    "# DataLoader for unlabeled data\n",
    "unlabeled_dataloader =DataLoader(unlabeled_dataset, batch_size=10, shuffle=True)\n",
    "\n",
    "print(len(labeled_dataloader))\n",
    "print(len(unlabeled_dataloader))\n"
   ]
  },
  {
   "cell_type": "code",
   "execution_count": 73,
   "id": "5e98486e-3ce7-4257-bf60-6fb285e8a3b7",
   "metadata": {},
   "outputs": [
    {
     "name": "stdout",
     "output_type": "stream",
     "text": [
      "NeuralNetwork(\n",
      "  (flatten): Flatten(start_dim=1, end_dim=-1)\n",
      "  (linear_relu_stack): Sequential(\n",
      "    (0): Linear(in_features=784, out_features=200, bias=True)\n",
      "    (1): ReLU()\n",
      "    (2): Linear(in_features=200, out_features=10, bias=True)\n",
      "    (3): ReLU()\n",
      "  )\n",
      ")\n"
     ]
    }
   ],
   "source": [
    "class NeuralNetwork(nn.Module):\n",
    "    def __init__(self):\n",
    "        super().__init__()\n",
    "        self.flatten = nn.Flatten()\n",
    "        self.linear_relu_stack = nn.Sequential(\n",
    "            nn.Linear(28*28, 200),\n",
    "            nn.ReLU(),\n",
    "            nn.Linear(200, 10),\n",
    "            nn.ReLU(),\n",
    "        )\n",
    "\n",
    "    def forward(self, x):\n",
    "        x = self.flatten(x)\n",
    "        logits = self.linear_relu_stack(x)\n",
    "        return logits\n",
    "\n",
    "# model = NeuralNetwork().to(device)\n",
    "model = NeuralNetwork()\n",
    "\n",
    "print(model)"
   ]
  },
  {
   "cell_type": "code",
   "execution_count": 74,
   "id": "c32fe53a-55b3-41fa-a206-07b50a506576",
   "metadata": {},
   "outputs": [],
   "source": [
    "loss_fn = nn.CrossEntropyLoss()\n",
    "optimizer = torch.optim.SGD(model.parameters(), lr=1e-3)"
   ]
  },
  {
   "cell_type": "code",
   "execution_count": 75,
   "id": "4d4b1911-17d7-4553-a00b-399838c57774",
   "metadata": {},
   "outputs": [],
   "source": [
    "def train_torch(dataloader, model, loss_fn, optimizer):\n",
    "    # size = len(dataloader.dataset)\n",
    "    size = len(dataloader)\n",
    "    print()\n",
    "    \n",
    "    model.train()\n",
    "    for batch, (X, y) in enumerate(dataloader):\n",
    "        # X, y = X.to(device), y.to(device)\n",
    "        X, y = X, y\n",
    "        \n",
    "\n",
    "        # Compute prediction error\n",
    "        pred = model(X)\n",
    "        loss = loss_fn(pred, y)\n",
    "\n",
    "        # Backpropagation\n",
    "        loss.backward()\n",
    "        optimizer.step()\n",
    "        optimizer.zero_grad()\n",
    "\n",
    "        if batch % 100 == 0:\n",
    "            loss, current = loss.item(), (batch + 1) * len(X)\n",
    "            print(f\"loss: {loss:>7f}  [{current:>5d}/{size:>5d}]\")"
   ]
  },
  {
   "cell_type": "code",
   "execution_count": 76,
   "id": "b1f97a1c-47d6-4bae-87c2-80679167bc43",
   "metadata": {},
   "outputs": [],
   "source": [
    "def test_torch(dataloader, model, loss_fn):\n",
    "    size = len(dataloader.dataset)\n",
    "    num_batches = len(dataloader)\n",
    "    model.eval()\n",
    "    test_loss, correct = 0, 0\n",
    "    with torch.no_grad():\n",
    "        for X, y in dataloader:\n",
    "            # X, y = X.to(device), y.to(device)\n",
    "            X, y = X, y\n",
    "            \n",
    "            pred = model(X)\n",
    "            test_loss += loss_fn(pred, y).item()\n",
    "            correct += (pred.argmax(1) == y).type(torch.float).sum().item()\n",
    "    test_loss /= num_batches\n",
    "    correct /= size\n",
    "    print(f\"Test Error: \\n Accuracy: {(100*correct):>0.1f}%, Avg loss: {test_loss:>8f} \\n\")"
   ]
  },
  {
   "cell_type": "code",
   "execution_count": 99,
   "id": "e68fde5d-f2d9-449f-afbe-0ee61264953b",
   "metadata": {},
   "outputs": [
    {
     "name": "stdout",
     "output_type": "stream",
     "text": [
      "Epoch 1\n",
      "-------------------------------\n",
      "\n"
     ]
    },
    {
     "ename": "TypeError",
     "evalue": "'DataLoader' object is not subscriptable",
     "output_type": "error",
     "traceback": [
      "\u001b[0;31m---------------------------------------------------------------------------\u001b[0m",
      "\u001b[0;31mTypeError\u001b[0m                                 Traceback (most recent call last)",
      "Cell \u001b[0;32mIn[99], line 5\u001b[0m\n\u001b[1;32m      3\u001b[0m \u001b[38;5;28;01mfor\u001b[39;00m t \u001b[38;5;129;01min\u001b[39;00m \u001b[38;5;28mrange\u001b[39m(epochs):\n\u001b[1;32m      4\u001b[0m     \u001b[38;5;28mprint\u001b[39m(\u001b[38;5;124mf\u001b[39m\u001b[38;5;124m\"\u001b[39m\u001b[38;5;124mEpoch \u001b[39m\u001b[38;5;132;01m{\u001b[39;00mt\u001b[38;5;241m+\u001b[39m\u001b[38;5;241m1\u001b[39m\u001b[38;5;132;01m}\u001b[39;00m\u001b[38;5;130;01m\\n\u001b[39;00m\u001b[38;5;124m-------------------------------\u001b[39m\u001b[38;5;124m\"\u001b[39m)\n\u001b[0;32m----> 5\u001b[0m     \u001b[43mtrain_torch\u001b[49m\u001b[43m(\u001b[49m\u001b[43mlabeled_dataset\u001b[49m\u001b[43m,\u001b[49m\u001b[43m \u001b[49m\u001b[43mmodel\u001b[49m\u001b[43m,\u001b[49m\u001b[43m \u001b[49m\u001b[43mloss_fn\u001b[49m\u001b[43m,\u001b[49m\u001b[43m \u001b[49m\u001b[43moptimizer\u001b[49m\u001b[43m)\u001b[49m\n\u001b[1;32m      6\u001b[0m     test_torch(test_dataloader, model, loss_fn)\n\u001b[1;32m      7\u001b[0m \u001b[38;5;28mprint\u001b[39m(\u001b[38;5;124m\"\u001b[39m\u001b[38;5;124mDone!\u001b[39m\u001b[38;5;124m\"\u001b[39m)\n",
      "Cell \u001b[0;32mIn[75], line 7\u001b[0m, in \u001b[0;36mtrain_torch\u001b[0;34m(dataloader, model, loss_fn, optimizer)\u001b[0m\n\u001b[1;32m      4\u001b[0m \u001b[38;5;28mprint\u001b[39m()\n\u001b[1;32m      6\u001b[0m model\u001b[38;5;241m.\u001b[39mtrain()\n\u001b[0;32m----> 7\u001b[0m \u001b[38;5;28;01mfor\u001b[39;00m batch, (X, y) \u001b[38;5;129;01min\u001b[39;00m \u001b[38;5;28menumerate\u001b[39m(dataloader):\n\u001b[1;32m      8\u001b[0m     \u001b[38;5;66;03m# X, y = X.to(device), y.to(device)\u001b[39;00m\n\u001b[1;32m      9\u001b[0m     X, y \u001b[38;5;241m=\u001b[39m X, y\n\u001b[1;32m     12\u001b[0m     \u001b[38;5;66;03m# Compute prediction error\u001b[39;00m\n",
      "File \u001b[0;32m~/Library/Python/3.9/lib/python/site-packages/torch/utils/data/dataset.py:356\u001b[0m, in \u001b[0;36mSubset.__getitem__\u001b[0;34m(self, idx)\u001b[0m\n\u001b[1;32m    354\u001b[0m \u001b[38;5;28;01mif\u001b[39;00m \u001b[38;5;28misinstance\u001b[39m(idx, \u001b[38;5;28mlist\u001b[39m):\n\u001b[1;32m    355\u001b[0m     \u001b[38;5;28;01mreturn\u001b[39;00m \u001b[38;5;28mself\u001b[39m\u001b[38;5;241m.\u001b[39mdataset[[\u001b[38;5;28mself\u001b[39m\u001b[38;5;241m.\u001b[39mindices[i] \u001b[38;5;28;01mfor\u001b[39;00m i \u001b[38;5;129;01min\u001b[39;00m idx]]\n\u001b[0;32m--> 356\u001b[0m \u001b[38;5;28;01mreturn\u001b[39;00m \u001b[38;5;28;43mself\u001b[39;49m\u001b[38;5;241;43m.\u001b[39;49m\u001b[43mdataset\u001b[49m\u001b[43m[\u001b[49m\u001b[38;5;28;43mself\u001b[39;49m\u001b[38;5;241;43m.\u001b[39;49m\u001b[43mindices\u001b[49m\u001b[43m[\u001b[49m\u001b[43midx\u001b[49m\u001b[43m]\u001b[49m\u001b[43m]\u001b[49m\n",
      "\u001b[0;31mTypeError\u001b[0m: 'DataLoader' object is not subscriptable"
     ]
    }
   ],
   "source": [
    "# This can be uncommented when you need to torch\n",
    "epochs = 5\n",
    "for t in range(epochs):\n",
    "    print(f\"Epoch {t+1}\\n-------------------------------\")\n",
    "    train_torch(labeled_dataset, model, loss_fn, optimizer)\n",
    "    test_torch(test_dataloader, model, loss_fn)\n",
    "print(\"Done!\")"
   ]
  },
  {
   "cell_type": "code",
   "execution_count": 10,
   "id": "0ffbe78d-bad9-4fe8-98e1-42c13568e567",
   "metadata": {},
   "outputs": [
    {
     "name": "stdout",
     "output_type": "stream",
     "text": [
      "Unique labels [0 1 2 3 4 5 6 7 8 9]\n",
      "Category 5: 1000 samples\n",
      "Category 0: 1000 samples\n",
      "Category 2: 1000 samples\n",
      "Category 4: 1000 samples\n",
      "Category 7: 1000 samples\n",
      "Category 8: 1000 samples\n",
      "Category 6: 1000 samples\n",
      "Category 1: 1000 samples\n",
      "Category 9: 1000 samples\n",
      "Category 3: 1000 samples\n"
     ]
    },
    {
     "ename": "NameError",
     "evalue": "name 'labels' is not defined",
     "output_type": "error",
     "traceback": [
      "\u001b[0;31m---------------------------------------------------------------------------\u001b[0m",
      "\u001b[0;31mNameError\u001b[0m                                 Traceback (most recent call last)",
      "Cell \u001b[0;32mIn[10], line 40\u001b[0m\n\u001b[1;32m     37\u001b[0m \u001b[38;5;66;03m# Randomly select samples from each category\u001b[39;00m\n\u001b[1;32m     38\u001b[0m \u001b[38;5;28;01mfor\u001b[39;00m label \u001b[38;5;129;01min\u001b[39;00m unique_labels:\n\u001b[1;32m     39\u001b[0m     \u001b[38;5;66;03m# Find indices of samples with the current label\u001b[39;00m\n\u001b[0;32m---> 40\u001b[0m     indices \u001b[38;5;241m=\u001b[39m np\u001b[38;5;241m.\u001b[39mwhere(\u001b[43mlabels\u001b[49m \u001b[38;5;241m==\u001b[39m label)[\u001b[38;5;241m0\u001b[39m]\n\u001b[1;32m     42\u001b[0m     \u001b[38;5;66;03m# Randomly select 'samples_per_category' samples from the current category\u001b[39;00m\n\u001b[1;32m     43\u001b[0m     selected_indices \u001b[38;5;241m=\u001b[39m np\u001b[38;5;241m.\u001b[39mrandom\u001b[38;5;241m.\u001b[39mchoice(indices, size\u001b[38;5;241m=\u001b[39msamples_per_category, replace\u001b[38;5;241m=\u001b[39m\u001b[38;5;28;01mFalse\u001b[39;00m)\n",
      "\u001b[0;31mNameError\u001b[0m: name 'labels' is not defined"
     ]
    }
   ],
   "source": [
    "# Assuming the last column contains category labels\n",
    "# training_data_labels = training_data[:, -1]\n",
    "\n",
    "# Get unique category labels\n",
    "unique_labels = np.unique([y for batch, (X,y) in enumerate(train_dataloader)])\n",
    "\n",
    "print(\"Unique labels\", unique_labels)\n",
    "# print(\n",
    "\n",
    "# Set the number of samples you want to select from each category\n",
    "samples_per_category = 10\n",
    "\n",
    "# Initialize an empty array to store selected samples\n",
    "# selected_samples = np.empty((0, data.shape[1]))\n",
    "\n",
    "\n",
    "def count_samples_per_category(dataloader):\n",
    "    category_counts = {}\n",
    "\n",
    "    for _, labels in dataloader:\n",
    "        for label in labels:\n",
    "            category_counts[label.item()] = category_counts.get(label.item(), 0) + 1\n",
    "\n",
    "    return category_counts\n",
    "\n",
    "\n",
    "\n",
    "# Count the total number of samples in each category\n",
    "category_counts = count_samples_per_category(train_dataloader)\n",
    "\n",
    "# Print the results\n",
    "for category, count in category_counts.items():\n",
    "    print(f\"Category {category}: {count} samples\")\n",
    "\n",
    "\n",
    "\n",
    "# Randomly select samples from each category\n",
    "for label in unique_labels:\n",
    "    # Find indices of samples with the current label\n",
    "    indices = np.where(labels == label)[0]\n",
    "\n",
    "    # Randomly select 'samples_per_category' samples from the current category\n",
    "    selected_indices = np.random.choice(indices, size=samples_per_category, replace=False)\n",
    "\n",
    "    # Append selected samples to the result array\n",
    "    selected_samples = np.vstack((selected_samples, data[selected_indices]))"
   ]
  },
  {
   "cell_type": "code",
   "execution_count": 93,
   "id": "726ff0ab-6dac-4269-95ff-8875f37dbedc",
   "metadata": {},
   "outputs": [
    {
     "ename": "NameError",
     "evalue": "name 'mnist' is not defined",
     "output_type": "error",
     "traceback": [
      "\u001b[0;31m---------------------------------------------------------------------------\u001b[0m",
      "\u001b[0;31mNameError\u001b[0m                                 Traceback (most recent call last)",
      "Cell \u001b[0;32mIn[93], line 2\u001b[0m\n\u001b[1;32m      1\u001b[0m \u001b[38;5;66;03m# Load the MNIST dataset\u001b[39;00m\n\u001b[0;32m----> 2\u001b[0m (x_train, y_train), (x_test, y_test) \u001b[38;5;241m=\u001b[39m \u001b[43mmnist\u001b[49m\u001b[38;5;241m.\u001b[39mload_data()\n\u001b[1;32m      4\u001b[0m \u001b[38;5;66;03m# Combine training and test datasets to get the full dataset\u001b[39;00m\n\u001b[1;32m      5\u001b[0m x_full \u001b[38;5;241m=\u001b[39m np\u001b[38;5;241m.\u001b[39mconcatenate((x_train, x_test), axis\u001b[38;5;241m=\u001b[39m\u001b[38;5;241m0\u001b[39m)\n",
      "\u001b[0;31mNameError\u001b[0m: name 'mnist' is not defined"
     ]
    }
   ],
   "source": []
  }
 ],
 "metadata": {
  "kernelspec": {
   "display_name": "Python 3 (ipykernel)",
   "language": "python",
   "name": "python3"
  },
  "language_info": {
   "codemirror_mode": {
    "name": "ipython",
    "version": 3
   },
   "file_extension": ".py",
   "mimetype": "text/x-python",
   "name": "python",
   "nbconvert_exporter": "python",
   "pygments_lexer": "ipython3",
   "version": "3.9.6"
  }
 },
 "nbformat": 4,
 "nbformat_minor": 5
}
